{
 "cells": [
  {
   "cell_type": "code",
   "execution_count": 18,
   "id": "f3aeede6-0776-414f-8f9f-079e2f104914",
   "metadata": {},
   "outputs": [],
   "source": [
    "# Initial Imports\n",
    "import numpy as np\n",
    "import pandas as pd\n",
    "from pathlib import Path\n",
    "%matplotlib inline\n",
    "from sklearn.ensemble import RandomForestRegressor\n",
    "from sklearn.model_selection import train_test_split, GridSearchCV \n",
    "import warnings\n",
    "warnings.filterwarnings(\"ignore\")\n",
    "from sklearn.metrics import confusion_matrix, accuracy_score, classification_report"
   ]
  },
  {
   "cell_type": "code",
   "execution_count": 19,
   "id": "01d0d51e-2847-49c0-8d00-b57e1191fc9b",
   "metadata": {},
   "outputs": [],
   "source": [
    "# reading in the data for top 5 largest economies\n",
    "df = pd.read_csv('WEOApril2021all.csv')\n",
    "df = df[\n",
    "    (df[\"Units\"] == \"U.S. dollars\") | (df[\"Units\"] == \"Percent change\") | (df[\"Units\"] == \"Percent of GDP\") | (df[\"Units\"] == \"Persons\") | (df[\"Units\"] == \"Percent of total labor force\")]\n",
    "df.drop(columns=['WEO Country Code','ISO','WEO Subject Code','Subject Notes','Units','Country/Series-specific Notes','Estimates Start After','Scale'], inplace=True)\n",
    "df = df.T\n",
    "df.columns = [df.loc[\"Country\"], df.loc['Subject Descriptor']]\n",
    "df.drop(['Country','Subject Descriptor'],axis=0,inplace=True)\n",
    "US_df = df['United States']\n",
    "china_df =df['China']\n",
    "japan_df = df['Japan']\n",
    "india_df = df['India']\n",
    "germany_df = df['Germany']\n",
    "\n",
    "# clean numeric data\n",
    "US_df.dropna(axis=1, inplace=True)\n",
    "US_df = US_df.replace(',','', regex=True)\n",
    "US_df = US_df.astype(\"float\")\n",
    "\n",
    "china_df.dropna(axis=1, inplace=True)\n",
    "china_df = china_df.replace(',','', regex=True)\n",
    "china_df = china_df.astype(\"float\")\n",
    "\n",
    "japan_df.dropna(axis=1, inplace=True)\n",
    "japan_df = japan_df.replace(',','', regex=True)\n",
    "japan_df = japan_df.astype(\"float\")\n",
    "\n",
    "india_df.dropna(axis=1, inplace=True)\n",
    "india_df = india_df.replace(',','', regex=True)\n",
    "india_df = india_df.astype(\"float\")\n",
    "\n",
    "germany_df.dropna(axis=1, inplace=True)\n",
    "germany_df = germany_df.replace(',','', regex=True)\n",
    "germany_df = germany_df.astype(\"float\")"
   ]
  },
  {
   "cell_type": "code",
   "execution_count": 20,
   "id": "ee3d0b78-51b8-4678-8adf-f2201a421093",
   "metadata": {},
   "outputs": [
    {
     "data": {
      "text/html": [
       "<div>\n",
       "<style scoped>\n",
       "    .dataframe tbody tr th:only-of-type {\n",
       "        vertical-align: middle;\n",
       "    }\n",
       "\n",
       "    .dataframe tbody tr th {\n",
       "        vertical-align: top;\n",
       "    }\n",
       "\n",
       "    .dataframe thead th {\n",
       "        text-align: right;\n",
       "    }\n",
       "</style>\n",
       "<table border=\"1\" class=\"dataframe\">\n",
       "  <thead>\n",
       "    <tr style=\"text-align: right;\">\n",
       "      <th>Subject Descriptor</th>\n",
       "      <th>Gross domestic product, constant prices</th>\n",
       "      <th>Gross domestic product, current prices</th>\n",
       "      <th>Gross domestic product per capita, current prices</th>\n",
       "      <th>Total investment</th>\n",
       "      <th>Gross national savings</th>\n",
       "      <th>Inflation, average consumer prices</th>\n",
       "      <th>Inflation, end of period consumer prices</th>\n",
       "      <th>Volume of imports of goods and services</th>\n",
       "      <th>Volume of Imports of goods</th>\n",
       "      <th>Volume of exports of goods and services</th>\n",
       "      <th>Volume of exports of goods</th>\n",
       "      <th>Unemployment rate</th>\n",
       "      <th>Population</th>\n",
       "      <th>Current account balance</th>\n",
       "      <th>Current account balance</th>\n",
       "    </tr>\n",
       "  </thead>\n",
       "  <tbody>\n",
       "    <tr>\n",
       "      <th>1980</th>\n",
       "      <td>-0.257</td>\n",
       "      <td>2857.33</td>\n",
       "      <td>12552.94</td>\n",
       "      <td>23.310</td>\n",
       "      <td>22.053</td>\n",
       "      <td>13.502</td>\n",
       "      <td>11.887</td>\n",
       "      <td>-6.660</td>\n",
       "      <td>-7.449</td>\n",
       "      <td>10.777</td>\n",
       "      <td>12.292</td>\n",
       "      <td>7.175</td>\n",
       "      <td>227.622</td>\n",
       "      <td>2.316</td>\n",
       "      <td>0.081</td>\n",
       "    </tr>\n",
       "    <tr>\n",
       "      <th>1981</th>\n",
       "      <td>2.538</td>\n",
       "      <td>3207.03</td>\n",
       "      <td>13948.70</td>\n",
       "      <td>24.277</td>\n",
       "      <td>23.195</td>\n",
       "      <td>10.378</td>\n",
       "      <td>8.569</td>\n",
       "      <td>2.610</td>\n",
       "      <td>2.041</td>\n",
       "      <td>1.219</td>\n",
       "      <td>-0.655</td>\n",
       "      <td>7.617</td>\n",
       "      <td>229.916</td>\n",
       "      <td>5.031</td>\n",
       "      <td>0.157</td>\n",
       "    </tr>\n",
       "    <tr>\n",
       "      <th>1982</th>\n",
       "      <td>-1.802</td>\n",
       "      <td>3343.80</td>\n",
       "      <td>14404.99</td>\n",
       "      <td>22.071</td>\n",
       "      <td>21.706</td>\n",
       "      <td>6.158</td>\n",
       "      <td>4.017</td>\n",
       "      <td>-1.275</td>\n",
       "      <td>-2.524</td>\n",
       "      <td>-7.661</td>\n",
       "      <td>-8.479</td>\n",
       "      <td>9.708</td>\n",
       "      <td>232.128</td>\n",
       "      <td>-5.533</td>\n",
       "      <td>-0.165</td>\n",
       "    </tr>\n",
       "    <tr>\n",
       "      <th>1983</th>\n",
       "      <td>4.584</td>\n",
       "      <td>3634.03</td>\n",
       "      <td>15513.68</td>\n",
       "      <td>22.253</td>\n",
       "      <td>19.721</td>\n",
       "      <td>3.160</td>\n",
       "      <td>3.930</td>\n",
       "      <td>12.620</td>\n",
       "      <td>13.593</td>\n",
       "      <td>-2.589</td>\n",
       "      <td>-3.274</td>\n",
       "      <td>9.600</td>\n",
       "      <td>234.247</td>\n",
       "      <td>-38.695</td>\n",
       "      <td>-1.065</td>\n",
       "    </tr>\n",
       "    <tr>\n",
       "      <th>1984</th>\n",
       "      <td>7.237</td>\n",
       "      <td>4037.65</td>\n",
       "      <td>17086.44</td>\n",
       "      <td>25.096</td>\n",
       "      <td>21.834</td>\n",
       "      <td>4.368</td>\n",
       "      <td>3.896</td>\n",
       "      <td>24.338</td>\n",
       "      <td>24.183</td>\n",
       "      <td>8.157</td>\n",
       "      <td>7.107</td>\n",
       "      <td>7.508</td>\n",
       "      <td>236.307</td>\n",
       "      <td>-94.342</td>\n",
       "      <td>-2.337</td>\n",
       "    </tr>\n",
       "  </tbody>\n",
       "</table>\n",
       "</div>"
      ],
      "text/plain": [
       "Subject Descriptor  Gross domestic product, constant prices  \\\n",
       "1980                                                 -0.257   \n",
       "1981                                                  2.538   \n",
       "1982                                                 -1.802   \n",
       "1983                                                  4.584   \n",
       "1984                                                  7.237   \n",
       "\n",
       "Subject Descriptor  Gross domestic product, current prices  \\\n",
       "1980                                               2857.33   \n",
       "1981                                               3207.03   \n",
       "1982                                               3343.80   \n",
       "1983                                               3634.03   \n",
       "1984                                               4037.65   \n",
       "\n",
       "Subject Descriptor  Gross domestic product per capita, current prices  \\\n",
       "1980                                                         12552.94   \n",
       "1981                                                         13948.70   \n",
       "1982                                                         14404.99   \n",
       "1983                                                         15513.68   \n",
       "1984                                                         17086.44   \n",
       "\n",
       "Subject Descriptor  Total investment  Gross national savings  \\\n",
       "1980                          23.310                  22.053   \n",
       "1981                          24.277                  23.195   \n",
       "1982                          22.071                  21.706   \n",
       "1983                          22.253                  19.721   \n",
       "1984                          25.096                  21.834   \n",
       "\n",
       "Subject Descriptor  Inflation, average consumer prices  \\\n",
       "1980                                            13.502   \n",
       "1981                                            10.378   \n",
       "1982                                             6.158   \n",
       "1983                                             3.160   \n",
       "1984                                             4.368   \n",
       "\n",
       "Subject Descriptor  Inflation, end of period consumer prices  \\\n",
       "1980                                                  11.887   \n",
       "1981                                                   8.569   \n",
       "1982                                                   4.017   \n",
       "1983                                                   3.930   \n",
       "1984                                                   3.896   \n",
       "\n",
       "Subject Descriptor  Volume of imports of goods and services  \\\n",
       "1980                                                 -6.660   \n",
       "1981                                                  2.610   \n",
       "1982                                                 -1.275   \n",
       "1983                                                 12.620   \n",
       "1984                                                 24.338   \n",
       "\n",
       "Subject Descriptor  Volume of Imports of goods  \\\n",
       "1980                                    -7.449   \n",
       "1981                                     2.041   \n",
       "1982                                    -2.524   \n",
       "1983                                    13.593   \n",
       "1984                                    24.183   \n",
       "\n",
       "Subject Descriptor  Volume of exports of goods and services  \\\n",
       "1980                                                 10.777   \n",
       "1981                                                  1.219   \n",
       "1982                                                 -7.661   \n",
       "1983                                                 -2.589   \n",
       "1984                                                  8.157   \n",
       "\n",
       "Subject Descriptor  Volume of exports of goods  Unemployment rate  Population  \\\n",
       "1980                                    12.292              7.175     227.622   \n",
       "1981                                    -0.655              7.617     229.916   \n",
       "1982                                    -8.479              9.708     232.128   \n",
       "1983                                    -3.274              9.600     234.247   \n",
       "1984                                     7.107              7.508     236.307   \n",
       "\n",
       "Subject Descriptor  Current account balance  Current account balance  \n",
       "1980                                  2.316                    0.081  \n",
       "1981                                  5.031                    0.157  \n",
       "1982                                 -5.533                   -0.165  \n",
       "1983                                -38.695                   -1.065  \n",
       "1984                                -94.342                   -2.337  "
      ]
     },
     "execution_count": 20,
     "metadata": {},
     "output_type": "execute_result"
    }
   ],
   "source": [
    "#US dataframe cleaned all columns\n",
    "US_df.head()\n"
   ]
  },
  {
   "cell_type": "code",
   "execution_count": 21,
   "id": "dda43582-58d1-4dc7-afd5-462dcf8cfbf4",
   "metadata": {},
   "outputs": [],
   "source": [
    "# Created X and y for each country \n",
    "US_X = US_df.drop(columns=[\"Gross domestic product, current prices\"])\n",
    "US_y = US_df['Gross domestic product, current prices']\n",
    "\n",
    "china_X = china_df.drop(columns=[\"Gross domestic product, current prices\"])\n",
    "china_y = china_df['Gross domestic product, current prices']\n",
    "\n",
    "japan_X = japan_df.drop(columns=[\"Gross domestic product, current prices\"])\n",
    "japan_y = japan_df['Gross domestic product, current prices']\n",
    "\n",
    "india_X = india_df.drop(columns=[\"Gross domestic product, current prices\"])\n",
    "india_y = india_df['Gross domestic product, current prices']\n",
    "\n",
    "germany_X = germany_df.drop(columns=[\"Gross domestic product, current prices\"])\n",
    "germany_y = germany_df['Gross domestic product, current prices']\n",
    "\n"
   ]
  },
  {
   "cell_type": "code",
   "execution_count": 22,
   "id": "2fbc038b-05da-4bdd-9b03-a8aff655d6a8",
   "metadata": {},
   "outputs": [],
   "source": [
    "def window_data(df, window, feature_col_number, target_col_number):\n",
    "    \"\"\"\n",
    "    This function accepts the column number for the features (X) and the target (y).\n",
    "    It chunks the data up with a rolling window of Xt - window to predict Xt.\n",
    "    It returns two numpy arrays of X and y.\n",
    "    \"\"\"\n",
    "    X = []\n",
    "    y = []\n",
    "    for i in range(len(df) - window):\n",
    "        features = df.iloc[i : (i + window), feature_col_number]\n",
    "        target = df.iloc[(i + window), target_col_number]\n",
    "        X.append(features)\n",
    "        y.append(target)\n",
    "    return np.array(X), np.array(y).reshape(-1, 1)"
   ]
  },
  {
   "cell_type": "code",
   "execution_count": 23,
   "id": "798d4e54-0613-43f3-96de-20ecedde39a8",
   "metadata": {},
   "outputs": [
    {
     "name": "stdout",
     "output_type": "stream",
     "text": [
      "X sample values:\n",
      "[[12552.94 13948.7  14404.99 15513.68 17086.44 18199.32 19034.77 20000.97\n",
      "  21376.   22814.08]\n",
      " [13948.7  14404.99 15513.68 17086.44 18199.32 19034.77 20000.97 21376.\n",
      "  22814.08 23847.98]\n",
      " [14404.99 15513.68 17086.44 18199.32 19034.77 20000.97 21376.   22814.08\n",
      "  23847.98 24302.78]\n",
      " [15513.68 17086.44 18199.32 19034.77 20000.97 21376.   22814.08 23847.98\n",
      "  24302.78 25392.93]\n",
      " [17086.44 18199.32 19034.77 20000.97 21376.   22814.08 23847.98 24302.78\n",
      "  25392.93 26364.19]] \n",
      "\n",
      "y sample values:\n",
      "[[23847.98]\n",
      " [24302.78]\n",
      " [25392.93]\n",
      " [26364.19]\n",
      " [27674.02]] \n"
     ]
    }
   ],
   "source": [
    "window_size = 10\n",
    "\n",
    "feature_column = 2\n",
    "target_column = 2\n",
    "X, y = window_data(US_df, window_size, feature_column, target_column)\n",
    "print (f\"X sample values:\\n{X[:5]} \\n\")\n",
    "print (f\"y sample values:\\n{y[:5]} \")"
   ]
  },
  {
   "cell_type": "code",
   "execution_count": 24,
   "id": "8d02b9de-255b-468c-b862-a0c25c0ecc13",
   "metadata": {},
   "outputs": [],
   "source": [
    "# train-test-splits for each country\n",
    "\n",
    "split = int(0.8 * len(X))\n",
    "US_X_train = X[: split]\n",
    "US_X_test = X[split - 20:]\n",
    "US_y_train = y[: split]\n",
    "US_y_test = y[split - 20:]\n",
    "\n",
    "#china_X_train, china_X_test, china_y_train, china_y_test = train_test_split(china_X,china_y)\n",
    "\n",
    "#japan_X_train, japan_X_test, japan_y_train, japan_y_test = train_test_split(japan_X,japan_y)\n",
    "\n",
    "#india_X_train, india_X_test, india_y_train, india_y_test = train_test_split(india_X,india_y)\n",
    "\n",
    "#germany_X_train, germany_X_test, germany_y_train, germany_y_test = train_test_split(germany_X,germany_y)\n",
    "\n"
   ]
  },
  {
   "cell_type": "code",
   "execution_count": 25,
   "id": "0276cf04-72c0-4a26-8d1b-455a41dee549",
   "metadata": {},
   "outputs": [
    {
     "data": {
      "text/plain": [
       "array([[12552.94, 13948.7 , 14404.99, 15513.68, 17086.44, 18199.32,\n",
       "        19034.77, 20000.97, 21376.  , 22814.08],\n",
       "       [13948.7 , 14404.99, 15513.68, 17086.44, 18199.32, 19034.77,\n",
       "        20000.97, 21376.  , 22814.08, 23847.98],\n",
       "       [14404.99, 15513.68, 17086.44, 18199.32, 19034.77, 20000.97,\n",
       "        21376.  , 22814.08, 23847.98, 24302.78],\n",
       "       [15513.68, 17086.44, 18199.32, 19034.77, 20000.97, 21376.  ,\n",
       "        22814.08, 23847.98, 24302.78, 25392.93],\n",
       "       [17086.44, 18199.32, 19034.77, 20000.97, 21376.  , 22814.08,\n",
       "        23847.98, 24302.78, 25392.93, 26364.19],\n",
       "       [18199.32, 19034.77, 20000.97, 21376.  , 22814.08, 23847.98,\n",
       "        24302.78, 25392.93, 26364.19, 27674.02],\n",
       "       [19034.77, 20000.97, 21376.  , 22814.08, 23847.98, 24302.78,\n",
       "        25392.93, 26364.19, 27674.02, 28671.48],\n",
       "       [20000.97, 21376.  , 22814.08, 23847.98, 24302.78, 25392.93,\n",
       "        26364.19, 27674.02, 28671.48, 29946.97],\n",
       "       [21376.  , 22814.08, 23847.98, 24302.78, 25392.93, 26364.19,\n",
       "        27674.02, 28671.48, 29946.97, 31440.09],\n",
       "       [22814.08, 23847.98, 24302.78, 25392.93, 26364.19, 27674.02,\n",
       "        28671.48, 29946.97, 31440.09, 32833.67],\n",
       "       [23847.98, 24302.78, 25392.93, 26364.19, 27674.02, 28671.48,\n",
       "        29946.97, 31440.09, 32833.67, 34494.54],\n",
       "       [24302.78, 25392.93, 26364.19, 27674.02, 28671.48, 29946.97,\n",
       "        31440.09, 32833.67, 34494.54, 36317.74],\n",
       "       [25392.93, 26364.19, 27674.02, 28671.48, 29946.97, 31440.09,\n",
       "        32833.67, 34494.54, 36317.74, 37101.1 ],\n",
       "       [26364.19, 27674.02, 28671.48, 29946.97, 31440.09, 32833.67,\n",
       "        34494.54, 36317.74, 37101.1 , 37971.28],\n",
       "       [27674.02, 28671.48, 29946.97, 31440.09, 32833.67, 34494.54,\n",
       "        36317.74, 37101.1 , 37971.28, 39411.55],\n",
       "       [28671.48, 29946.97, 31440.09, 32833.67, 34494.54, 36317.74,\n",
       "        37101.1 , 37971.28, 39411.55, 41629.86],\n",
       "       [29946.97, 31440.09, 32833.67, 34494.54, 36317.74, 37101.1 ,\n",
       "        37971.28, 39411.55, 41629.86, 44025.56],\n",
       "       [31440.09, 32833.67, 34494.54, 36317.74, 37101.1 , 37971.28,\n",
       "        39411.55, 41629.86, 44025.56, 46213.51],\n",
       "       [32833.67, 34494.54, 36317.74, 37101.1 , 37971.28, 39411.55,\n",
       "        41629.86, 44025.56, 46213.51, 47869.24],\n",
       "       [34494.54, 36317.74, 37101.1 , 37971.28, 39411.55, 41629.86,\n",
       "        44025.56, 46213.51, 47869.24, 48283.41],\n",
       "       [36317.74, 37101.1 , 37971.28, 39411.55, 41629.86, 44025.56,\n",
       "        46213.51, 47869.24, 48283.41, 47007.67],\n",
       "       [37101.1 , 37971.28, 39411.55, 41629.86, 44025.56, 46213.51,\n",
       "        47869.24, 48283.41, 47007.67, 48403.3 ],\n",
       "       [37971.28, 39411.55, 41629.86, 44025.56, 46213.51, 47869.24,\n",
       "        48283.41, 47007.67, 48403.3 , 49829.06],\n",
       "       [39411.55, 41629.86, 44025.56, 46213.51, 47869.24, 48283.41,\n",
       "        47007.67, 48403.3 , 49829.06, 51563.13],\n",
       "       [41629.86, 44025.56, 46213.51, 47869.24, 48283.41, 47007.67,\n",
       "        48403.3 , 49829.06, 51563.13, 53071.82],\n",
       "       [44025.56, 46213.51, 47869.24, 48283.41, 47007.67, 48403.3 ,\n",
       "        49829.06, 51563.13, 53071.82, 55024.66],\n",
       "       [46213.51, 47869.24, 48283.41, 47007.67, 48403.3 , 49829.06,\n",
       "        51563.13, 53071.82, 55024.66, 56848.51],\n",
       "       [47869.24, 48283.41, 47007.67, 48403.3 , 49829.06, 51563.13,\n",
       "        53071.82, 55024.66, 56848.51, 58017.23],\n",
       "       [48283.41, 47007.67, 48403.3 , 49829.06, 51563.13, 53071.82,\n",
       "        55024.66, 56848.51, 58017.23, 60105.85]])"
      ]
     },
     "execution_count": 25,
     "metadata": {},
     "output_type": "execute_result"
    }
   ],
   "source": [
    "US_X_train"
   ]
  },
  {
   "cell_type": "code",
   "execution_count": 26,
   "id": "06fdfe7a-23f1-4553-b7de-42122885e757",
   "metadata": {},
   "outputs": [
    {
     "data": {
      "text/plain": [
       "array([[22814.08, 23847.98, 24302.78, 25392.93, 26364.19, 27674.02,\n",
       "        28671.48, 29946.97, 31440.09, 32833.67],\n",
       "       [23847.98, 24302.78, 25392.93, 26364.19, 27674.02, 28671.48,\n",
       "        29946.97, 31440.09, 32833.67, 34494.54],\n",
       "       [24302.78, 25392.93, 26364.19, 27674.02, 28671.48, 29946.97,\n",
       "        31440.09, 32833.67, 34494.54, 36317.74],\n",
       "       [25392.93, 26364.19, 27674.02, 28671.48, 29946.97, 31440.09,\n",
       "        32833.67, 34494.54, 36317.74, 37101.1 ],\n",
       "       [26364.19, 27674.02, 28671.48, 29946.97, 31440.09, 32833.67,\n",
       "        34494.54, 36317.74, 37101.1 , 37971.28],\n",
       "       [27674.02, 28671.48, 29946.97, 31440.09, 32833.67, 34494.54,\n",
       "        36317.74, 37101.1 , 37971.28, 39411.55],\n",
       "       [28671.48, 29946.97, 31440.09, 32833.67, 34494.54, 36317.74,\n",
       "        37101.1 , 37971.28, 39411.55, 41629.86],\n",
       "       [29946.97, 31440.09, 32833.67, 34494.54, 36317.74, 37101.1 ,\n",
       "        37971.28, 39411.55, 41629.86, 44025.56],\n",
       "       [31440.09, 32833.67, 34494.54, 36317.74, 37101.1 , 37971.28,\n",
       "        39411.55, 41629.86, 44025.56, 46213.51],\n",
       "       [32833.67, 34494.54, 36317.74, 37101.1 , 37971.28, 39411.55,\n",
       "        41629.86, 44025.56, 46213.51, 47869.24],\n",
       "       [34494.54, 36317.74, 37101.1 , 37971.28, 39411.55, 41629.86,\n",
       "        44025.56, 46213.51, 47869.24, 48283.41],\n",
       "       [36317.74, 37101.1 , 37971.28, 39411.55, 41629.86, 44025.56,\n",
       "        46213.51, 47869.24, 48283.41, 47007.67],\n",
       "       [37101.1 , 37971.28, 39411.55, 41629.86, 44025.56, 46213.51,\n",
       "        47869.24, 48283.41, 47007.67, 48403.3 ],\n",
       "       [37971.28, 39411.55, 41629.86, 44025.56, 46213.51, 47869.24,\n",
       "        48283.41, 47007.67, 48403.3 , 49829.06],\n",
       "       [39411.55, 41629.86, 44025.56, 46213.51, 47869.24, 48283.41,\n",
       "        47007.67, 48403.3 , 49829.06, 51563.13],\n",
       "       [41629.86, 44025.56, 46213.51, 47869.24, 48283.41, 47007.67,\n",
       "        48403.3 , 49829.06, 51563.13, 53071.82],\n",
       "       [44025.56, 46213.51, 47869.24, 48283.41, 47007.67, 48403.3 ,\n",
       "        49829.06, 51563.13, 53071.82, 55024.66],\n",
       "       [46213.51, 47869.24, 48283.41, 47007.67, 48403.3 , 49829.06,\n",
       "        51563.13, 53071.82, 55024.66, 56848.51],\n",
       "       [47869.24, 48283.41, 47007.67, 48403.3 , 49829.06, 51563.13,\n",
       "        53071.82, 55024.66, 56848.51, 58017.23],\n",
       "       [48283.41, 47007.67, 48403.3 , 49829.06, 51563.13, 53071.82,\n",
       "        55024.66, 56848.51, 58017.23, 60105.85],\n",
       "       [47007.67, 48403.3 , 49829.06, 51563.13, 53071.82, 55024.66,\n",
       "        56848.51, 58017.23, 60105.85, 63055.98],\n",
       "       [48403.3 , 49829.06, 51563.13, 53071.82, 55024.66, 56848.51,\n",
       "        58017.23, 60105.85, 63055.98, 65253.52],\n",
       "       [49829.06, 51563.13, 53071.82, 55024.66, 56848.51, 58017.23,\n",
       "        60105.85, 63055.98, 65253.52, 63415.99],\n",
       "       [51563.13, 53071.82, 55024.66, 56848.51, 58017.23, 60105.85,\n",
       "        63055.98, 65253.52, 63415.99, 68308.97],\n",
       "       [53071.82, 55024.66, 56848.51, 58017.23, 60105.85, 63055.98,\n",
       "        65253.52, 63415.99, 68308.97, 71895.79],\n",
       "       [55024.66, 56848.51, 58017.23, 60105.85, 63055.98, 65253.52,\n",
       "        63415.99, 68308.97, 71895.79, 74130.27],\n",
       "       [56848.51, 58017.23, 60105.85, 63055.98, 65253.52, 63415.99,\n",
       "        68308.97, 71895.79, 74130.27, 76362.22],\n",
       "       [58017.23, 60105.85, 63055.98, 65253.52, 63415.99, 68308.97,\n",
       "        71895.79, 74130.27, 76362.22, 78660.27]])"
      ]
     },
     "execution_count": 26,
     "metadata": {},
     "output_type": "execute_result"
    }
   ],
   "source": [
    "US_X_test"
   ]
  },
  {
   "cell_type": "code",
   "execution_count": 27,
   "id": "e7baa6e5-507c-429c-8191-9179cd929836",
   "metadata": {},
   "outputs": [
    {
     "data": {
      "text/plain": [
       "array([[23847.98],\n",
       "       [24302.78],\n",
       "       [25392.93],\n",
       "       [26364.19],\n",
       "       [27674.02],\n",
       "       [28671.48],\n",
       "       [29946.97],\n",
       "       [31440.09],\n",
       "       [32833.67],\n",
       "       [34494.54],\n",
       "       [36317.74],\n",
       "       [37101.1 ],\n",
       "       [37971.28],\n",
       "       [39411.55],\n",
       "       [41629.86],\n",
       "       [44025.56],\n",
       "       [46213.51],\n",
       "       [47869.24],\n",
       "       [48283.41],\n",
       "       [47007.67],\n",
       "       [48403.3 ],\n",
       "       [49829.06],\n",
       "       [51563.13],\n",
       "       [53071.82],\n",
       "       [55024.66],\n",
       "       [56848.51],\n",
       "       [58017.23],\n",
       "       [60105.85],\n",
       "       [63055.98]])"
      ]
     },
     "execution_count": 27,
     "metadata": {},
     "output_type": "execute_result"
    }
   ],
   "source": [
    "US_y_train"
   ]
  },
  {
   "cell_type": "code",
   "execution_count": 28,
   "id": "ea683f03-5b38-46c4-8ca5-e2ba40bcd714",
   "metadata": {},
   "outputs": [
    {
     "data": {
      "text/plain": [
       "array([[34494.54],\n",
       "       [36317.74],\n",
       "       [37101.1 ],\n",
       "       [37971.28],\n",
       "       [39411.55],\n",
       "       [41629.86],\n",
       "       [44025.56],\n",
       "       [46213.51],\n",
       "       [47869.24],\n",
       "       [48283.41],\n",
       "       [47007.67],\n",
       "       [48403.3 ],\n",
       "       [49829.06],\n",
       "       [51563.13],\n",
       "       [53071.82],\n",
       "       [55024.66],\n",
       "       [56848.51],\n",
       "       [58017.23],\n",
       "       [60105.85],\n",
       "       [63055.98],\n",
       "       [65253.52],\n",
       "       [63415.99],\n",
       "       [68308.97],\n",
       "       [71895.79],\n",
       "       [74130.27],\n",
       "       [76362.22],\n",
       "       [78660.27],\n",
       "       [80958.76]])"
      ]
     },
     "execution_count": 28,
     "metadata": {},
     "output_type": "execute_result"
    }
   ],
   "source": [
    "US_y_test"
   ]
  },
  {
   "cell_type": "code",
   "execution_count": 30,
   "id": "ebdef5c6-2fed-4387-a11d-1b266fb3c5de",
   "metadata": {},
   "outputs": [
    {
     "data": {
      "text/plain": [
       "RandomForestRegressor(max_depth=5, n_estimators=3)"
      ]
     },
     "execution_count": 30,
     "metadata": {},
     "output_type": "execute_result"
    }
   ],
   "source": [
    "#Created models for each country\n",
    "Parameters = {\"n_estimators\": [1, 2, 5, 10, 15], \n",
    "          \"max_depth\": [None, 2, 5, 8, 10]\n",
    "          }\n",
    "US_model = RandomForestRegressor()\n",
    "Grid = GridSearchCV(US_model, Parameters)\n",
    "Grid.fit(US_X_train, US_y_train)\n",
    "Grid.best_params_\n",
    "US_model = RandomForestRegressor(max_depth = 5, n_estimators = 3)\n",
    "US_model.fit(US_X_train, US_y_train)\n",
    "\n",
    "\n",
    "\n",
    "\n",
    "\n",
    "\n",
    "#US_model = RandomForestRegressor(n_estimators=100, max_depth=3, random_state=0)\n",
    "#US_model.fit(US_X_train, US_y_train)\n",
    "\n",
    "#china_model = RandomForestRegressor(n_estimators=100, max_depth=3, random_state=0)\n",
    "#china_model.fit(china_X_train, china_y_train)\n",
    "\n",
    "#japan_model = RandomForestRegressor(n_estimators=100, max_depth=3, random_state=0)\n",
    "#japan_model.fit(japan_X_train, japan_y_train)\n",
    "\n",
    "#india_model = RandomForestRegressor(n_estimators=100, max_depth=3, random_state=0)\n",
    "#india_model.fit(india_X_train, india_y_train)\n",
    "\n",
    "#germany_model = RandomForestRegressor(n_estimators=100, max_depth=3, random_state=0)\n",
    "#germany_model.fit(germany_X_train, germany_y_train)"
   ]
  },
  {
   "cell_type": "code",
   "execution_count": 31,
   "id": "1179648b-1472-4689-97f7-862335538073",
   "metadata": {},
   "outputs": [
    {
     "data": {
      "text/plain": [
       "array([34548.65      , 35156.38333333, 37391.16      , 37971.28      ,\n",
       "       39411.55      , 41629.86      , 44025.56      , 45484.19333333,\n",
       "       47582.05      , 47878.145     , 47452.89833333, 47918.10833333,\n",
       "       49466.62      , 48526.15666667, 53722.76666667, 54981.66333333,\n",
       "       58917.66666667, 59409.64333333, 60105.85      , 63055.98      ,\n",
       "       61089.22666667, 61089.22666667, 61089.22666667, 61089.22666667,\n",
       "       61089.22666667, 61089.22666667, 61089.22666667, 61089.22666667])"
      ]
     },
     "execution_count": 31,
     "metadata": {},
     "output_type": "execute_result"
    }
   ],
   "source": [
    "US_GDP_Predict = US_model.predict(US_X_test)\n",
    "US_GDP_Predict"
   ]
  },
  {
   "cell_type": "code",
   "execution_count": 32,
   "id": "c9f3f93a-a5cc-4e29-9d58-37c5af65aff2",
   "metadata": {},
   "outputs": [],
   "source": [
    "from sklearn.metrics import mean_squared_error, r2_score"
   ]
  },
  {
   "cell_type": "code",
   "execution_count": 33,
   "id": "d50234b4-4139-451a-8e86-380350aad342",
   "metadata": {},
   "outputs": [
    {
     "data": {
      "text/plain": [
       "0.7387623171882135"
      ]
     },
     "execution_count": 33,
     "metadata": {},
     "output_type": "execute_result"
    }
   ],
   "source": [
    "r2 = r2_score(US_y_test, US_GDP_Predict)\n",
    "r2"
   ]
  },
  {
   "cell_type": "code",
   "execution_count": 34,
   "id": "e2e1bb71-ceac-4aeb-a2c2-5cd68a74ed6b",
   "metadata": {},
   "outputs": [
    {
     "data": {
      "text/plain": [
       "47042256.172897555"
      ]
     },
     "execution_count": 34,
     "metadata": {},
     "output_type": "execute_result"
    }
   ],
   "source": [
    "mse = mean_squared_error(US_y_test, US_GDP_Predict)\n",
    "mse"
   ]
  },
  {
   "cell_type": "code",
   "execution_count": 35,
   "id": "54a3fc17-7a17-4bff-83a7-52a6e919b166",
   "metadata": {},
   "outputs": [
    {
     "data": {
      "text/plain": [
       "6858.735756165093"
      ]
     },
     "execution_count": 35,
     "metadata": {},
     "output_type": "execute_result"
    }
   ],
   "source": [
    "rmse = np.sqrt(mse)\n",
    "rmse"
   ]
  },
  {
   "cell_type": "code",
   "execution_count": 36,
   "id": "0127d658-1bea-4714-87f1-4f1af636c4b0",
   "metadata": {},
   "outputs": [
    {
     "data": {
      "text/plain": [
       "[(0.6133723066895047, 'Volume of exports of goods and services'),\n",
       " (0.2654771741196876, 'Gross domestic product, constant prices'),\n",
       " (0.048009249777528774, 'Volume of imports of goods and services'),\n",
       " (0.034355391027022085, 'Volume of Imports of goods'),\n",
       " (0.008983167451120082, 'Total investment'),\n",
       " (0.008543179358580894, 'Gross domestic product per capita, current prices'),\n",
       " (0.0075883797561558395, 'Inflation, average consumer prices'),\n",
       " (0.007012011671262979, 'Inflation, end of period consumer prices'),\n",
       " (0.005894382863254643, 'Volume of exports of goods'),\n",
       " (0.0007647572858823953, 'Gross national savings')]"
      ]
     },
     "execution_count": 36,
     "metadata": {},
     "output_type": "execute_result"
    }
   ],
   "source": [
    "#Biggest Contributor to model prediction\n",
    "importances = US_model.feature_importances_\n",
    "sorted(zip(US_model.feature_importances_, US_X.columns), reverse=True)"
   ]
  },
  {
   "cell_type": "code",
   "execution_count": 37,
   "id": "08944654-76fd-44d4-a006-551217e21e4e",
   "metadata": {
    "tags": []
   },
   "outputs": [
    {
     "data": {
      "text/plain": [
       "<AxesSubplot:title={'center':'Features Importances that Factor Into US GDP'}, ylabel='1'>"
      ]
     },
     "execution_count": 37,
     "metadata": {},
     "output_type": "execute_result"
    },
    {
     "data": {
      "image/png": "[encoded data removed]",
      "text/plain": [
       "<Figure size 720x360 with 1 Axes>"
      ]
     },
     "metadata": {
      "needs_background": "light"
     },
     "output_type": "display_data"
    }
   ],
   "source": [
    "# Visualize the features by importance\n",
    "importances_df = pd.DataFrame(sorted(zip(US_model.feature_importances_, US_X.columns), reverse=True))\n",
    "importances_df.set_index(importances_df[1], inplace=True)\n",
    "importances_df.drop(columns=1, inplace=True)\n",
    "importances_df.rename(columns={0: 'Feature Importances'}, inplace=True)\n",
    "importances_sorted = importances_df.sort_values(by='Feature Importances')\n",
    "importances_sorted.plot(figsize=(10,5), kind='barh', color='Blue', title= 'Features Importances that Factor Into US GDP', legend=False)"
   ]
  },
  {
   "cell_type": "code",
   "execution_count": 38,
   "id": "e1c305df-b521-4e26-a26c-44df323602ac",
   "metadata": {},
   "outputs": [
    {
     "data": {
      "text/plain": [
       "0.9950734816676584"
      ]
     },
     "execution_count": 38,
     "metadata": {},
     "output_type": "execute_result"
    }
   ],
   "source": [
    "#Accuracy using training data\n",
    "US_model.score(US_X_train, US_y_train)  "
   ]
  },
  {
   "cell_type": "code",
   "execution_count": 39,
   "id": "9bade23b-60a7-4a86-9760-63e443a94a78",
   "metadata": {},
   "outputs": [
    {
     "data": {
      "text/plain": [
       "0.7387623171882135"
      ]
     },
     "execution_count": 39,
     "metadata": {},
     "output_type": "execute_result"
    }
   ],
   "source": [
    "#Accuracy using test data\n",
    "US_model.score(US_X_test, US_y_test)  "
   ]
  },
  {
   "cell_type": "code",
   "execution_count": 40,
   "id": "c71e2996-13ec-4b01-93ee-1f70eb30107a",
   "metadata": {},
   "outputs": [
    {
     "data": {
      "text/plain": [
       "<AxesSubplot:>"
      ]
     },
     "execution_count": 40,
     "metadata": {},
     "output_type": "execute_result"
    },
    {
     "data": {
      "image/png": "[encoded data removed]",
      "text/plain": [
       "<Figure size 1440x720 with 1 Axes>"
      ]
     },
     "metadata": {
      "needs_background": "light"
     },
     "output_type": "display_data"
    }
   ],
   "source": [
    "US_pred_results = pd.DataFrame({\"Actual\": US_y_test.ravel(), \"Predictions\": US_GDP_Predict.ravel()})\n",
    "#US_pred_results[\"Actual\"] = US_y_test\n",
    "#US_pred_results[\"Predictions\"] = US_GDP_Predict\n",
    "US_pred_results.plot(figsize=(20,10))"
   ]
  },
  {
   "cell_type": "code",
   "execution_count": 41,
   "id": "af98c027-a806-4892-88a7-75176f2e3b3d",
   "metadata": {},
   "outputs": [
    {
     "data": {
      "text/plain": [
       "(47, 15)"
      ]
     },
     "execution_count": 41,
     "metadata": {},
     "output_type": "execute_result"
    }
   ],
   "source": [
    "US_df.shape"
   ]
  },
  {
   "cell_type": "code",
   "execution_count": null,
   "id": "4e01d218-e410-4497-b3ff-e119322ab7da",
   "metadata": {},
   "outputs": [],
   "source": []
  }
 ],
 "metadata": {
  "kernelspec": {
   "display_name": "Python [conda env:tensorflow]",
   "language": "python",
   "name": "conda-env-tensorflow-py"
  },
  "language_info": {
   "codemirror_mode": {
    "name": "ipython",
    "version": 3
   },
   "file_extension": ".py",
   "mimetype": "text/x-python",
   "name": "python",
   "nbconvert_exporter": "python",
   "pygments_lexer": "ipython3",
   "version": "3.7.10"
  }
 },
 "nbformat": 4,
 "nbformat_minor": 5
}
